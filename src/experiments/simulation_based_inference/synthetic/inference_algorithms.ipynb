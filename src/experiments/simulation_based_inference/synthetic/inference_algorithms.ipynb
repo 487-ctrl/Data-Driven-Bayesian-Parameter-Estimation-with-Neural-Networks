{
 "cells": [
  {
   "cell_type": "markdown",
   "metadata": {},
   "source": [
    "# Question: What influence has the choice of inference algorithms on resulting the posterior distribution?\n",
    "\n",
    "- 'Explain the experimental details'\n",
    "- 'Introduce the experimental Variables'\n",
    "- 'Run the experiment'\n",
    "- 'discuss the results, and provide additional model measurements'"
   ]
  }
 ],
 "metadata": {
  "language_info": {
   "name": "python"
  }
 },
 "nbformat": 4,
 "nbformat_minor": 2
}
