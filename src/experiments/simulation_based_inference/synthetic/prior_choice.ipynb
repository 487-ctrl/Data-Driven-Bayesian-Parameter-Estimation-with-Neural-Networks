{
 "cells": [
  {
   "cell_type": "markdown",
   "metadata": {},
   "source": [
    "# Question: What influence has the choice of the prior on the resulting posterior distribution?\n",
    "\n",
    "- 'Explain the experimental details'\n",
    "- 'Introduce the experimental Variables'\n",
    "- 'Run the experiment'\n",
    "- 'discuss the results, and provide additional model measurements'\n",
    "\n",
    "NOTE: noise in the prior? how would it still perform to find suitable parameters"
   ]
  }
 ],
 "metadata": {
  "language_info": {
   "name": "python"
  }
 },
 "nbformat": 4,
 "nbformat_minor": 2
}
