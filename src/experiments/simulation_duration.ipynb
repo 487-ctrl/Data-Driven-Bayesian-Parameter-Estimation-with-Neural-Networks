{
 "cells": [
  {
   "cell_type": "markdown",
   "metadata": {},
   "source": [
    "# TEST 2:"
   ]
  },
  {
   "cell_type": "code",
   "execution_count": 9,
   "metadata": {},
   "outputs": [],
   "source": [
    "# Add the 'src' as root folder, to find other modules in the project\n",
    "import sys\n",
    "sys.path.append(\"../\")"
   ]
  },
  {
   "cell_type": "code",
   "execution_count": 10,
   "metadata": {},
   "outputs": [],
   "source": [
    "# import other internal modules and functions\n",
    "from simulator.swing_equation import swing_equation\n",
    "\n",
    "# import other external modules and functions\n",
    "from sbi.inference import SNPE, simulate_for_sbi, prepare_for_sbi\n",
    "from sbi.utils import BoxUniform, posterior_nn\n",
    "import torch\n",
    "import os\n",
    "from matplotlib import pyplot as plt\n",
    "from scipy import stats\n",
    "import pandas as pd\n",
    "import numpy as np\n",
    "from scipy.stats import kurtosis, skew"
   ]
  },
  {
   "cell_type": "code",
   "execution_count": 4,
   "metadata": {},
   "outputs": [
    {
     "name": "stderr",
     "output_type": "stream",
     "text": [
      "Running 10000 simulations.: 100%|██████████| 10000/10000 [00:53<00:00, 185.23it/s]\n"
     ]
    },
    {
     "name": "stdout",
     "output_type": "stream",
     "text": [
      " Neural network successfully converged after 366 epochs."
     ]
    },
    {
     "name": "stderr",
     "output_type": "stream",
     "text": [
      "Running 10000 simulations.: 100%|██████████| 10000/10000 [01:44<00:00, 96.03it/s]\n"
     ]
    },
    {
     "name": "stdout",
     "output_type": "stream",
     "text": [
      " Neural network successfully converged after 228 epochs."
     ]
    },
    {
     "name": "stderr",
     "output_type": "stream",
     "text": [
      "Running 10000 simulations.: 100%|██████████| 10000/10000 [08:20<00:00, 19.96it/s]\n"
     ]
    },
    {
     "name": "stdout",
     "output_type": "stream",
     "text": [
      " Neural network successfully converged after 173 epochs."
     ]
    }
   ],
   "source": [
    "# Define the experimental setup variables\n",
    "num_simulations = 10000\n",
    "timesteps = [0.1, 0.05, 0.01]\n",
    "\n",
    "# Define the prior distribution for the parameters\n",
    "prior = BoxUniform(\n",
    "    low=torch.tensor([0.1, 1.0, 0.1, 40.0, 0.1]),\n",
    "    high=torch.tensor([10.0, 100.0, 10.0, 70.0, 10.0])\n",
    ")\n",
    "\n",
    "# Define the true parameters for training and evaluation\n",
    "true_parameters = torch.tensor([4.0, 40.0, 3.0, 60.0, 7.0])\n",
    "\n",
    "posteriors = []\n",
    "\n",
    "for dt in timesteps:\n",
    "\n",
    "    # wrapper for the simulator, to allow different time durations\n",
    "    def simulator(parameters):\n",
    "        return swing_equation(parameters, dt=dt)\n",
    "    \n",
    "    # Simulate the observation\n",
    "    observation = simulator(true_parameters)\n",
    "\n",
    "    # Wrap the simulator function for compatibility with SBI\n",
    "    simulator_wrapper, prior = prepare_for_sbi(simulator, prior)\n",
    "\n",
    "    # Instantiate the neural density estimator\n",
    "    neural_posterior = posterior_nn(\n",
    "        model=\"maf\", hidden_features=10, num_transforms=2\n",
    "    )\n",
    "\n",
    "    # Set up the inference procedure with the SNPE-C procedure\n",
    "    inference = SNPE(prior=prior, density_estimator=neural_posterior)\n",
    "\n",
    "    # Run the inference procedure to generate samples and corresponding simulated data points\n",
    "    theta, x = simulate_for_sbi(simulator_wrapper, prior, num_simulations=num_simulations)\n",
    "\n",
    "    # Train the neural density estimator\n",
    "    density_estimator = inference.append_simulations(theta, x).train()\n",
    "\n",
    "    # Build the posterior for the given parameters\n",
    "    posterior = inference.build_posterior(density_estimator)\n",
    "    posterior.set_default_x(observation)\n",
    "\n",
    "    posteriors.append(posterior)"
   ]
  },
  {
   "cell_type": "code",
   "execution_count": 8,
   "metadata": {},
   "outputs": [
    {
     "ename": "IndexError",
     "evalue": "list index out of range",
     "output_type": "error",
     "traceback": [
      "\u001b[1;31m---------------------------------------------------------------------------\u001b[0m",
      "\u001b[1;31mIndexError\u001b[0m                                Traceback (most recent call last)",
      "Cell \u001b[1;32mIn[8], line 17\u001b[0m\n\u001b[0;32m     12\u001b[0m param_names \u001b[38;5;241m=\u001b[39m [\u001b[38;5;124m'\u001b[39m\u001b[38;5;124mc1\u001b[39m\u001b[38;5;124m'\u001b[39m, \u001b[38;5;124m'\u001b[39m\u001b[38;5;124mc2\u001b[39m\u001b[38;5;124m'\u001b[39m, \u001b[38;5;124m'\u001b[39m\u001b[38;5;124mP0\u001b[39m\u001b[38;5;124m'\u001b[39m, \u001b[38;5;124m'\u001b[39m\u001b[38;5;124mP1\u001b[39m\u001b[38;5;124m'\u001b[39m, \u001b[38;5;124m'\u001b[39m\u001b[38;5;124mepsilon\u001b[39m\u001b[38;5;124m'\u001b[39m]\n\u001b[0;32m     14\u001b[0m \u001b[38;5;28;01mfor\u001b[39;00m idx, t \u001b[38;5;129;01min\u001b[39;00m \u001b[38;5;28menumerate\u001b[39m(timesteps):\n\u001b[0;32m     15\u001b[0m     \n\u001b[0;32m     16\u001b[0m     \u001b[38;5;66;03m# Extract posterior distributions for current T\u001b[39;00m\n\u001b[1;32m---> 17\u001b[0m     posterior_samples \u001b[38;5;241m=\u001b[39m \u001b[43mposteriors\u001b[49m\u001b[43m[\u001b[49m\u001b[43midx\u001b[49m\u001b[43m]\u001b[49m\u001b[38;5;241m.\u001b[39msample((\u001b[38;5;241m10000\u001b[39m,), show_progress_bars\u001b[38;5;241m=\u001b[39m\u001b[38;5;28;01mFalse\u001b[39;00m)\n\u001b[0;32m     19\u001b[0m     \u001b[38;5;66;03m# Create separate figures for each type of plot\u001b[39;00m\n\u001b[0;32m     20\u001b[0m     fig1, axes1 \u001b[38;5;241m=\u001b[39m plt\u001b[38;5;241m.\u001b[39msubplots(\u001b[38;5;241m1\u001b[39m, \u001b[38;5;28mlen\u001b[39m(param_names), figsize\u001b[38;5;241m=\u001b[39m(\u001b[38;5;241m20\u001b[39m, \u001b[38;5;241m4\u001b[39m))\n",
      "\u001b[1;31mIndexError\u001b[0m: list index out of range"
     ]
    }
   ],
   "source": [
    "# Define the directory path\n",
    "dir_path = '../../results/simulation_lengths/plots/'\n",
    "\n",
    "# Create the directories\n",
    "os.makedirs(dir_path, exist_ok=True)\n",
    "\n",
    "# Plot settings\n",
    "param_names = ['c1', 'c2', 'P0', 'P1', 'epsilon']\n",
    "\n",
    "for idx, t in enumerate(timesteps):\n",
    "    \n",
    "    # Extract posterior distributions for current T\n",
    "    posterior_samples = posteriors[idx].sample((10000,), show_progress_bars=False)\n",
    "\n",
    "    # Create separate figures for each type of plot\n",
    "    fig1, axes1 = plt.subplots(1, len(param_names), figsize=(20, 4))\n",
    "    fig2, axes2 = plt.subplots(1, len(param_names), figsize=(20, 4))\n",
    "    fig3, axes3 = plt.subplots(1, len(param_names), figsize=(20, 4))\n",
    "\n",
    "    # Plot each parameter for current T\n",
    "    for j in range(len(param_names)):\n",
    "        parameter_samples = posterior_samples[:, j]\n",
    "        \n",
    "        # Histogram\n",
    "        axes1[j].hist(parameter_samples, bins=30, density=True, alpha=0.7, label='Inferred')\n",
    "        axes1[j].axvline(x=true_parameters[j], color='red', linestyle='--', label='True')\n",
    "\n",
    "        axes1[j].set_title(param_names[j] + ' - Histogram')\n",
    "        axes1[j].legend()\n",
    "        \n",
    "        # Scatter plot\n",
    "        axes2[j].scatter(range(len(parameter_samples)), parameter_samples, alpha=0.7)\n",
    "        axes2[j].set_title(param_names[j] + ' - Scatter plot')\n",
    "        \n",
    "        # QQ plot\n",
    "        stats.probplot(parameter_samples, dist=\"norm\", plot=axes3[j])\n",
    "        axes3[j].set_title(param_names[j] + ' - QQ plot')\n",
    "\n",
    "    # Set titles for the figures\n",
    "    fig1.suptitle(f'Posterior Distributions for dt={t} - Histograms', fontsize=16)\n",
    "    fig2.suptitle(f'Posterior Distributions for dt={t} - Scatter Plots', fontsize=16)\n",
    "    fig3.suptitle(f'Posterior Distributions for dt={t} - QQ Plots', fontsize=16)\n",
    "\n",
    "    # Adjust layout and save the figures\n",
    "    fig1.tight_layout(rect=[0, 0.03, 1, 0.95])\n",
    "    fig1.savefig(os.path.join(dir_path, f'histogram_dt_{t}.pdf'))\n",
    "    fig2.tight_layout(rect=[0, 0.03, 1, 0.95])\n",
    "    fig2.savefig(os.path.join(dir_path, f'scatter_dt_{t}.pdf'))\n",
    "    fig3.tight_layout(rect=[0, 0.03, 1, 0.95])\n",
    "    fig3.savefig(os.path.join(dir_path, f'qqplot_dt_{t}.pdf'))\n",
    "\n",
    "    plt.show()\n"
   ]
  },
  {
   "cell_type": "code",
   "execution_count": 5,
   "metadata": {},
   "outputs": [
    {
     "ename": "NameError",
     "evalue": "name 'timesteps' is not defined",
     "output_type": "error",
     "traceback": [
      "\u001b[1;31m---------------------------------------------------------------------------\u001b[0m",
      "\u001b[1;31mNameError\u001b[0m                                 Traceback (most recent call last)",
      "Cell \u001b[1;32mIn[5], line 14\u001b[0m\n\u001b[0;32m     11\u001b[0m os\u001b[38;5;241m.\u001b[39mmakedirs(dir_path, exist_ok\u001b[38;5;241m=\u001b[39m\u001b[38;5;28;01mTrue\u001b[39;00m)\n\u001b[0;32m     13\u001b[0m \u001b[38;5;66;03m# Calculate the statistics for each posterior\u001b[39;00m\n\u001b[1;32m---> 14\u001b[0m \u001b[38;5;28;01mfor\u001b[39;00m idx, t \u001b[38;5;129;01min\u001b[39;00m \u001b[38;5;28menumerate\u001b[39m(\u001b[43mtimesteps\u001b[49m):\n\u001b[0;32m     15\u001b[0m     posterior \u001b[38;5;241m=\u001b[39m posteriors[idx]\n\u001b[0;32m     16\u001b[0m     samples \u001b[38;5;241m=\u001b[39m posterior\u001b[38;5;241m.\u001b[39msample((\u001b[38;5;241m10000\u001b[39m,), show_progress_bars\u001b[38;5;241m=\u001b[39m\u001b[38;5;28;01mFalse\u001b[39;00m)\n",
      "\u001b[1;31mNameError\u001b[0m: name 'timesteps' is not defined"
     ]
    }
   ],
   "source": [
    "# Initialize lists to store the results\n",
    "medians = []\n",
    "stds = []\n",
    "kurtoses = []\n",
    "skews = []\n",
    "\n",
    "# Define the directory path\n",
    "dir_path = '../../results/simulation_lengths/csv/'\n",
    "\n",
    "# Create the directories\n",
    "os.makedirs(dir_path, exist_ok=True)\n",
    "\n",
    "# Calculate the statistics for each posterior\n",
    "for idx, t in enumerate(timesteps):\n",
    "    posterior = posteriors[idx]\n",
    "    samples = posterior.sample((10000,), show_progress_bars=False)\n",
    "    samples_np = samples.numpy()\n",
    "    median = np.median(samples_np, axis=0)\n",
    "    std = np.std(samples_np, axis=0)\n",
    "    kurt = kurtosis(samples_np, axis=0)\n",
    "    skewness = skew(samples_np, axis=0)\n",
    "    \n",
    "    medians.append([t] + list(median))\n",
    "    stds.append([t] + list(std)) \n",
    "    kurtoses.append([t] + list(kurt))\n",
    "    skews.append([t] + list(skewness))\n",
    "\n",
    "# Create a DataFrame for each statistic\n",
    "df_medians = pd.DataFrame(medians, columns=['T'] + param_names)\n",
    "df_medians.set_index('T', inplace=True)\n",
    "\n",
    "df_stds = pd.DataFrame(stds, columns=['T'] + param_names)\n",
    "df_stds.set_index('T', inplace=True)\n",
    "\n",
    "df_kurtoses = pd.DataFrame(kurtoses, columns=['T'] + param_names)\n",
    "df_kurtoses.set_index('T', inplace=True)\n",
    "\n",
    "df_skews = pd.DataFrame(skews, columns=['T'] + param_names)\n",
    "df_skews.set_index('T', inplace=True)\n",
    "\n",
    "# Save the DataFrames as CSV files in the specified directory\n",
    "df_medians.to_csv(os.path.join(dir_path, 'medians.csv'))\n",
    "df_stds.to_csv(os.path.join(dir_path, 'standard_deviations.csv'))\n",
    "df_kurtoses.to_csv(os.path.join(dir_path, 'kurtoses.csv'))\n",
    "df_skews.to_csv(os.path.join(dir_path, 'skews.csv'))\n",
    "\n",
    "# Print the tables\n",
    "print(\"Medians:\")\n",
    "print(df_medians)\n",
    "print(\"\\nStandard Deviations:\")\n",
    "print(df_stds)\n",
    "print(\"\\nKurtoses:\")\n",
    "print(df_kurtoses)\n",
    "print(\"\\nSkews:\")\n",
    "print(df_skews)\n"
   ]
  }
 ],
 "metadata": {
  "kernelspec": {
   "display_name": "Python 3",
   "language": "python",
   "name": "python3"
  },
  "language_info": {
   "codemirror_mode": {
    "name": "ipython",
    "version": 3
   },
   "file_extension": ".py",
   "mimetype": "text/x-python",
   "name": "python",
   "nbconvert_exporter": "python",
   "pygments_lexer": "ipython3",
   "version": "3.11.7"
  }
 },
 "nbformat": 4,
 "nbformat_minor": 2
}
