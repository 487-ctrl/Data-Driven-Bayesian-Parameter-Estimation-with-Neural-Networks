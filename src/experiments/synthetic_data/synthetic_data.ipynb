{
 "cells": [
  {
   "cell_type": "markdown",
   "metadata": {},
   "source": [
    "# Experiments with Synthetic Data using a formulation of the Swing-Equation"
   ]
  },
  {
   "cell_type": "code",
   "execution_count": null,
   "metadata": {},
   "outputs": [],
   "source": [
    "# Add the 'src' as root folder, to find other modules in the project\n",
    "import sys\n",
    "sys.path.append(\"../\")"
   ]
  },
  {
   "cell_type": "code",
   "execution_count": null,
   "metadata": {},
   "outputs": [],
   "source": [
    "# local imports\n",
    "from simulator.swing_equation import swing_equation\n",
    "\n",
    "# external imports\n",
    "import torch\n",
    "import os\n",
    "import pandas as pd\n",
    "import numpy as np\n",
    "\n",
    "from sbi.inference import SNPE, simulate_for_sbi, prepare_for_sbi\n",
    "from sbi.utils import BoxUniform, posterior_nn\n",
    "from matplotlib import pyplot as plt"
   ]
  },
  {
   "cell_type": "markdown",
   "metadata": {},
   "source": [
    "# Define Training Parameters\n",
    "\n",
    "1. [Simulation Parameters](#simulation-parameters)\n",
    "2. [Neural Density Estimator Parameters](#neural-density-estimator-parameters)\n"
   ]
  },
  {
   "cell_type": "markdown",
   "metadata": {},
   "source": [
    "## Simulation Parameters"
   ]
  },
  {
   "cell_type": "code",
   "execution_count": null,
   "metadata": {},
   "outputs": [],
   "source": [
    "# Define the simulation parameters\n",
    "# Define length and timesteps of the simulations\n",
    "dt = 0.01\n",
    "T = 10\n",
    "simulator = swing_equation\n",
    "\n",
    "# Define a proposal for parameter distributions\n",
    "proposal_low = torch.tensor([0.1, 1.0, 0.1, 40.0, 0.1])\n",
    "proposal_high = torch.tensor([10.0, 100.0, 10.0, 70.0, 10.0])\n",
    "\n",
    "proposal = BoxUniform(low=proposal_low, high=proposal_high)\n",
    "\n",
    "\n",
    "num_simulations = 20000\n",
    "num_workers = 20\n",
    "simulation_batch_size = 1\n",
    "seed = None\n",
    "show_progress_bar = True"
   ]
  },
  {
   "cell_type": "markdown",
   "metadata": {},
   "source": [
    "## Neural Density Estimator Parameters"
   ]
  },
  {
   "cell_type": "code",
   "execution_count": null,
   "metadata": {},
   "outputs": [],
   "source": [
    "\n",
    "\n",
    "# Define  \n",
    "\n",
    "\n",
    "# Define output directories for results\n",
    "dir_path_plots = '../../results/simulation_length/plots/'\n",
    "dir_path_tables = '../../results/simulation_length/csv/'\n",
    "\n",
    "# Create the directories\n",
    "os.makedirs(dir_path_plots, exist_ok=True)\n",
    "os.makedirs(dir_path_tables, exist_ok=True)\n",
    "\n",
    "\n",
    "\n",
    "prior = \n",
    "\n",
    "# Simulation parameters\n",
    "\n",
    "\n",
    "# Density estimator parameters\n",
    "model = 'maf'\n",
    "hidden_features = 50\n",
    "num_transforms = 10\n",
    "z_score_x = 'independent'\n",
    "z_score_theta = 'independent'\n",
    "num_bins = 10\n",
    "num_components = 10\n",
    "\n",
    "# Define the true parameters for training and evaluation\n",
    "theta_true = torch.tensor([4.0, 40.0, 3.0, 60.0, 7.0])\n",
    "\n",
    "# Define the simulators with different timesteps and observations from them\n",
    "sim_ops = []\n",
    "\n",
    "for dt in dts:\n",
    "    \n",
    "    # Wrap the simulator to allow timestep change\n",
    "    def wrap_simulator(theta, dt=dt):\n",
    "        return swing_equation(theta, dt=dt, T=T)\n",
    "    \n",
    "    # Generate observation for the current simulator function\n",
    "    observation = wrap_simulator(theta_true)\n",
    "    \n",
    "    # Append simulator function, observation, and total length of the simulation\n",
    "    sim_ops.append((wrap_simulator, observation, T / dt))"
   ]
  }
 ],
 "metadata": {
  "language_info": {
   "name": "python"
  }
 },
 "nbformat": 4,
 "nbformat_minor": 2
}
