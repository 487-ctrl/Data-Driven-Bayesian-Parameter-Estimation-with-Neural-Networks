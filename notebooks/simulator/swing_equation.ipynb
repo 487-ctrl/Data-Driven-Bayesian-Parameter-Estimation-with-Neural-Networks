{
 "cells": [
  {
   "cell_type": "markdown",
   "metadata": {},
   "source": [
    "# Modeling Frequency Dynamics in Power Grids with the Swing Equation\n",
    "\n",
    "This notebook introduces the application of the Swing Equation to capture the frequency dynamics in power grids. The implementation utilizes a Stochastic Differential Equation (SDE) as an abstract base, allowing for more precise formulations. To approximate the solutions of these equations, we employ the Euler-Maruyama method tailored for SDEs.\n",
    "\n",
    "In addition to the abstract base class, we provide an implementation for the aggregated swing equation, incorporating both linear and nonlinear control terms for a more comprehensive representation.\n",
    "\n",
    "The primary code segment has been converted into a `.py` format, facilitating its use in other notebooks for experimental purposes across diverse interests. The code can be accessed [here](add_link_here)."
   ]
  },
  {
   "cell_type": "code",
   "execution_count": 1,
   "metadata": {
    "execution": {
     "iopub.execute_input": "2024-02-19T20:48:38.168373Z",
     "iopub.status.busy": "2024-02-19T20:48:38.168107Z",
     "iopub.status.idle": "2024-02-19T20:48:42.394763Z",
     "shell.execute_reply": "2024-02-19T20:48:42.394173Z"
    }
   },
   "outputs": [],
   "source": [
    "# Add the 'src' as root folder, to find other modules in the project\n",
    "import sys\n",
    "sys.path.append(\"../../\")\n",
    "\n",
    "# Import external modules \n",
    "import torch\n",
    "import numpy as np\n",
    "\n",
    "# Import internal modules\n",
    "from utilities.analysis.frequency_analysis import FrequencyAnalysis"
   ]
  },
  {
   "cell_type": "markdown",
   "metadata": {},
   "source": [
    "## Solving Stochastic Differential Equations with the Euler-Maruyama Method\n",
    "\n",
    "Stochastic Differential Equations (SDEs) describe systems subjected to random fluctuations. One numerical method for solving SDEs is the Euler-Maruyama method. It approximates the solution by discrete points using the formula:\n",
    "\n",
    "$$\n",
    "dX(t) = a(t, X(t)) dt + b(t, X(t)) dW(t)\n",
    "$$\n",
    "\n",
    "Here, $W(t)$ is a Wiener process. The Euler-Maruyama method updates the solution from $X_n$ to $X_{n+1}$ with a step size $\\tau$:\n",
    "\n",
    "$$\n",
    "X_{n+1} = X_n + \\tau a(t_n, X_n) + b(t_n, X_n) \\Delta W_n\n",
    "$$\n",
    "\n",
    "where $\\Delta W_n = W(t_{n+1}) - W(t_n)$ is a normally distributed random vector with expectation $0$ and variance $\\tau$."
   ]
  },
  {
   "cell_type": "code",
   "execution_count": 2,
   "metadata": {
    "execution": {
     "iopub.execute_input": "2024-02-19T20:48:42.398384Z",
     "iopub.status.busy": "2024-02-19T20:48:42.397865Z",
     "iopub.status.idle": "2024-02-19T20:48:42.405818Z",
     "shell.execute_reply": "2024-02-19T20:48:42.405297Z"
    }
   },
   "outputs": [],
   "source": [
    "class SDE(object):\n",
    "    \"\"\"\n",
    "    This class implements the Euler-Maruyama method for solving stochastic differential equations (SDEs).\n",
    "    \"\"\"\n",
    "\n",
    "    def __init__(self, dt=1, T=900, X0=[0.0, 0.0]):\n",
    "        \"\"\"\n",
    "        Initializes the SDE class.\n",
    "\n",
    "        Parameters:\n",
    "        dt: Time step\n",
    "        T: End time\n",
    "        X0: Initial value\n",
    "        \"\"\"\n",
    "        self.dt = dt\n",
    "        self.T = T\n",
    "        self.X0 = X0\n",
    "\n",
    "    def _a(self, X, t, parameters):\n",
    "        raise NotImplementedError(\"Subclass must implement simulate method.\")\n",
    "    \n",
    "    def _b(self, X, t, parameters):\n",
    "        raise NotImplementedError(\"Subclass must implement simulate method.\")\n",
    "\n",
    "    def _solve(self, a, b, parameters):\n",
    "        \"\"\"\n",
    "        Solves the SDE using the Euler-Maruyama method.\n",
    "\n",
    "        Parameters:\n",
    "        a: Function for the deterministic part of the SDE\n",
    "        b: Function for the stochastic part of the SDE\n",
    "\n",
    "        Returns:\n",
    "        X: Approximate solution of the SDE\n",
    "        t: Time grid\n",
    "        \"\"\"\n",
    "        N = int(self.T / self.dt) # Number of time steps\n",
    "        d = len(self.X0) # Dimension of the system\n",
    "        X = np.zeros((d, N)) # Initialization of the solution\n",
    "        X[:, 0] = self.X0 # Setting the initial value\n",
    "        t = np.linspace(0, self.T, N) # Time grid\n",
    "        W = np.zeros((d, N)) # Initialization of the Wiener process\n",
    "\n",
    "        for i in range(N-1):\n",
    "\n",
    "            # Random fluctuation, corresponds to \\sqrt{dt} * Z, where Z ~ N(0,1), so Z ~ N(0,dt)\n",
    "            dW = np.sqrt(self.dt) * np.random.normal(size=d) # Wiener process increment\n",
    "\n",
    "            # Euler-Maruyama step, corresponds to X_{i+1} = X_i + a(X_i, t_i) * dt + b(X_i, t_i) * dW\n",
    "            X[:, i+1] = X[:, i] + self._a(X[:, i], t[i], parameters) * self.dt + self._b(X[:, i], t[i], parameters) * dW \n",
    "\n",
    "        return X, t\n",
    "    \n",
    "    def simulator(self, parameters):\n",
    "        raise NotImplementedError(\"Subclass must implement simulate method.\")"
   ]
  },
  {
   "cell_type": "markdown",
   "metadata": {},
   "source": [
    "## Applying Euler-Maruyama to the linear Swing Equation\n",
    "\n",
    "Let's apply the Euler-Maruyama method to the linear Swing Equation, which describes the dynamics of phase angles $\\theta$ and frequency deviations $\\omega$ of a generator in a power grid:\n",
    "\n",
    "$$\n",
    "\\frac{d\\omega}{dt} = c_1 \\omega + c_2 \\theta + P_0 + t P_1 + \\epsilon \\xi\n",
    "$$\n",
    "\n",
    "$$\n",
    "\\frac{d\\theta}{dt} = \\omega\n",
    "$$\n",
    "\n",
    "Splitting them into the stochastic and deterministic parts of the generalized SDE results in:\n",
    "\n",
    "$$\n",
    "a(t, X(t)) = (c_1 \\omega + c_2 \\theta + P_0 + t P_1, \\omega)^T\n",
    "$$\n",
    "\n",
    "$$\n",
    "b(t, X(t)) = (\\epsilon, 0)^T\n",
    "$$\n",
    "\n",
    "Here, $c_1, c_2, P_0, P_1, \\epsilon$ are constants, and $\\xi$ is a noise source. When $\\xi$ is modeled as a Wiener process, we have an SDE suitable for the Euler-Maruyama method. The Euler-Maruyama method approximates the solution of the SDE at discrete time steps. The update equations are:\n",
    "\n",
    "$$\n",
    "\\omega_{n+1} = \\omega_n + \\tau (c_1 \\omega_n + c_2 \\theta_n + P_0 + t_n P_1) + \\epsilon \\Delta W_n\n",
    "$$\n",
    "\n",
    "$$\n",
    "\\theta_{n+1} = \\theta_n + \\tau \\omega_n\n",
    "$$\n",
    "\n",
    "where $\\tau$ is the time step size, $t_n$ is the current time, and $\\Delta W_n$ is a random increment that follows a normal distribution with mean 0 and variance $\\tau$. The constants $c_1$ and $c_2$ represent primary and secondary control coefficients, while $P_0$ and $P_1$ are associated with system parameters. The term $\\epsilon$ accounts for the noise strength in the system."
   ]
  },
  {
   "cell_type": "code",
   "execution_count": 3,
   "metadata": {},
   "outputs": [],
   "source": [
    "class LinearSwing(SDE):\n",
    "    \"\"\"\n",
    "    This class implements the Euler-Maruyama method for solving the given system of linear stochastic differential equations (SDEs).\n",
    "    \"\"\"\n",
    "\n",
    "    def __init__(self, dt=1, T=900, base_frequency=50, X0=[0.0, 0.0]):\n",
    "        \"\"\"\n",
    "        Initializes the LinearSwing class.\n",
    "\n",
    "        Parameters:\n",
    "        dt: Time step\n",
    "        T: End time\n",
    "        X0: Initial value\n",
    "        \"\"\"\n",
    "        super().__init__(dt, T, X0)\n",
    "        self.base_frequency = base_frequency\n",
    "\n",
    "    def _a(self, X, t, parameters):\n",
    "        \"\"\"\n",
    "        Function for the deterministic part of the SDE.\n",
    "        The deterministic part of the SDE is given by the formula:\n",
    "        dω/dt = c1 * ω + c2 * θ + P0 + t * P1\n",
    "        dθ/dt = ω\n",
    "        \"\"\"\n",
    "        c1, c2, P0, P1, epsilon = parameters\n",
    "        omega, theta = X\n",
    "        return np.array([c1 * omega + c2 * theta + P0 + t * P1, omega])\n",
    "\n",
    "    def _b(self, X, t, parameters):\n",
    "        \"\"\"\n",
    "        Function for the stochastic part of the SDE.\n",
    "        The stochastic part of the SDE is given by the formula:\n",
    "        dω/dt = ε\n",
    "        dθ/dt = 0\n",
    "        \"\"\"\n",
    "        c1, c2, P0, P1, epsilon = parameters\n",
    "        return np.array([epsilon, 0])\n",
    "\n",
    "    def simulator(self, parameters):\n",
    "        \"\"\"\n",
    "        Simulates the SDE using the Euler-Maruyama method.\n",
    "\n",
    "        Parameters:\n",
    "        parameters: Parameters of the SDE\n",
    "\n",
    "        Returns:\n",
    "        X: Approximate solution of the SDE\n",
    "        t: Time grid\n",
    "        \"\"\"\n",
    "        # The _solve method is called with the deterministic and stochastic parts of the SDE (_a and _b methods)\n",
    "        # and the parameters of the SDE. It returns the approximate solution of the SDE and the time grid.\n",
    "        (omega, theta), t = self._solve(lambda X, t: self._a(X, t, parameters), lambda X, t: self._b(X, t, parameters), parameters)\n",
    "        \n",
    "        # The simulator method returns the frequency deviations omega shifted by the base frequency.\n",
    "        return torch.from_numpy(omega + self.base_frequency)\n"
   ]
  },
  {
   "cell_type": "markdown",
   "metadata": {},
   "source": [
    "## Handling Nonlinearities\n",
    "\n",
    "In cases where $c_1$ and $c_2$ are nonlinear functions, adjustments are needed.\n",
    "\n",
    "$$\n",
    "\\frac{d\\omega}{dt} = c_1(\\omega) + c_2(\\theta) + P_0 + t P_1 + \\epsilon \\xi\n",
    "$$\n",
    "\n",
    "$$\n",
    "\\frac{d\\theta}{dt} = \\omega\n",
    "$$\n",
    "\n",
    "After splitting the formulation into the deterministic and stochastic parts of the generic SDE, we obtain:\n",
    "\n",
    "$$\n",
    "a(t, X(t)) = (c_1(\\omega) + c_2(\\theta) + P_0 + t P_1, \\omega)^T\n",
    "$$\n",
    "\n",
    "$$\n",
    "b(t, X(t)) = (\\epsilon, 0)^T\n",
    "$$\n",
    "\n",
    "The corresponding Euler-Maruyama method becomes:\n",
    "\n",
    "$$\n",
    "\\omega_{n+1} = \\omega_n + \\tau (c_1(\\omega_n) + c_2(\\theta_n) + P_0 + t_n P_1) + \\epsilon \\Delta W_n\n",
    "$$\n",
    "\n",
    "$$\n",
    "\\theta_{n+1} = \\theta_n + \\tau \\omega_n\n",
    "$$\n",
    "\n",
    "This flexible approach enables the application of the Euler-Maruyama method to a wide range of formulations of the Swing Equation, accommodating both linear and nonlinear dynamics."
   ]
  },
  {
   "cell_type": "code",
   "execution_count": 4,
   "metadata": {
    "execution": {
     "iopub.execute_input": "2024-02-19T20:48:42.408502Z",
     "iopub.status.busy": "2024-02-19T20:48:42.408237Z",
     "iopub.status.idle": "2024-02-19T20:48:42.415108Z",
     "shell.execute_reply": "2024-02-19T20:48:42.414606Z"
    }
   },
   "outputs": [],
   "source": [
    "class Swing(SDE):\n",
    "    \"\"\"\n",
    "    This class implements the Euler-Maruyama method for solving the given system of nonlinear or linear stochastic differential equations (SDEs).\n",
    "    \"\"\"\n",
    "\n",
    "    def __init__(self, dt=1, T=900, base_frequency=50, X0=[0.0, 0.0], f=lambda x, y: -x * y, g=lambda x, y: -x * y):\n",
    "        \"\"\"\n",
    "        Initializes the Swing class.\n",
    "\n",
    "        Parameters:\n",
    "        dt: Time step\n",
    "        T: End time\n",
    "        X0: Initial value\n",
    "        f: Nonlinear function for the deterministic part of the SDE\n",
    "        g: Nonlinear function for the deterministic part of the SDE\n",
    "        \"\"\"\n",
    "        super().__init__(dt, T, X0)\n",
    "        self.f = f\n",
    "        self.g = g\n",
    "        self.base_frequency = base_frequency\n",
    "\n",
    "    def _a(self, X, t, parameters):\n",
    "        \"\"\"\n",
    "        Function for the deterministic part of the SDE.\n",
    "        The deterministic part of the SDE is given by the formula:\n",
    "        dω/dt = f(c1, ω) + g(c2, θ) + P0 + t * P1\n",
    "        dθ/dt = ω\n",
    "        where f(c1, ω) is a nonlinear function of ω and c1, and g(c2, θ) respectively.\n",
    "        \"\"\"\n",
    "        c1, c2, P0, P1, epsilon = parameters\n",
    "        omega, theta = X\n",
    "        return np.array([self.f(c1, omega) + self.g(c2, theta) + P0 + t * P1, omega])\n",
    "\n",
    "    def _b(self, X, t, parameters):\n",
    "        \"\"\"\n",
    "        Function for the stochastic part of the SDE.\n",
    "        The stochastic part of the SDE is given by the formula:\n",
    "        dω/dt = ε\n",
    "        dθ/dt = 0\n",
    "        \"\"\"\n",
    "        c1, c2, P0, P1, epsilon = parameters\n",
    "        return np.array([epsilon, 0])\n",
    "\n",
    "    def simulator(self, parameters):\n",
    "        \"\"\"\n",
    "        Simulates the SDE using the Euler-Maruyama method.\n",
    "\n",
    "        Parameters:\n",
    "        parameters: Parameters of the SDE\n",
    "\n",
    "        Returns:\n",
    "        X: Approximate solution of the SDE\n",
    "        t: Time grid\n",
    "        \"\"\"\n",
    "        # The _solve method is called with the deterministic and stochastic parts of the SDE (_a and _b methods)\n",
    "        # and the parameters of the SDE. It returns the approximate solution of the SDE and the time grid.\n",
    "        (omega, theta), t = self._solve(lambda X, t: self._a(X, t, parameters), lambda X, t: self._b(X, t, parameters), parameters)\n",
    "        \n",
    "        # The simulator method returns the frequency deviations omega shifted by the base frequency.\n",
    "        return torch.from_numpy(omega + self.base_frequency)\n"
   ]
  },
  {
   "cell_type": "markdown",
   "metadata": {},
   "source": [
    "## Examples"
   ]
  },
  {
   "cell_type": "code",
   "execution_count": 53,
   "metadata": {
    "execution": {
     "iopub.execute_input": "2024-02-19T20:48:42.417678Z",
     "iopub.status.busy": "2024-02-19T20:48:42.417417Z",
     "iopub.status.idle": "2024-02-19T20:48:42.426027Z",
     "shell.execute_reply": "2024-02-19T20:48:42.425553Z"
    }
   },
   "outputs": [],
   "source": [
    "# Define parameter values for swing\n",
    "c1 = 0.01\n",
    "c2 = 0.0001\n",
    "P0 = 0.001\n",
    "P1 = 0.00001\n",
    "epsilon = 0.001\n",
    "\n",
    "# Construct parameter bundle for swing\n",
    "parameters = torch.tensor([c1, c2, P0, P1, epsilon])\n",
    "\n",
    "analyzer = FrequencyAnalysis(dt=1, T=900)"
   ]
  },
  {
   "cell_type": "markdown",
   "metadata": {},
   "source": [
    "### Linear Control ($c_1$, $c_2$)\n",
    "\n",
    "To model $c_1$ and $c_2$ as linear coefficents we use the ``GeneralSwing`` and assume ``f`` to be a functional term, expressing $\\lambda$ x y. -x*y and ``g`` respectively. To make this happen we need to define neither ``f`` nor ``g``, since they are already implemented as linear functions by default."
   ]
  },
  {
   "cell_type": "code",
   "execution_count": 54,
   "metadata": {
    "execution": {
     "iopub.execute_input": "2024-02-19T20:48:42.428696Z",
     "iopub.status.busy": "2024-02-19T20:48:42.428435Z",
     "iopub.status.idle": "2024-02-19T20:48:43.581954Z",
     "shell.execute_reply": "2024-02-19T20:48:43.581377Z"
    }
   },
   "outputs": [
    {
     "data": {
      "text/plain": [
       "<module 'matplotlib.pyplot' from '/pfs/data5/home/kit/iai/ik6649/Data-Driven-Bayesian-Parameter-Estimation-with-Neural-Networks/.venv/lib64/python3.9/site-packages/matplotlib/pyplot.py'>"
      ]
     },
     "execution_count": 54,
     "metadata": {},
     "output_type": "execute_result"
    },
    {
     "data": {
      "image/png": "[encoded data removed]",
      "text/plain": [
       "<Figure size 800x200 with 1 Axes>"
      ]
     },
     "metadata": {},
     "output_type": "display_data"
    }
   ],
   "source": [
    "# Use only default simulator-parameters\n",
    "swing = Swing()\n",
    "\n",
    "# Compute simulation given the parameters previously defined\n",
    "simulation = swing.simulator(parameters)\n",
    "\n",
    "analyzer.plot_frequency_analytics(simulation)"
   ]
  },
  {
   "cell_type": "markdown",
   "metadata": {},
   "source": [
    "### Nonlinear Control ($c_1$, $c_2$)\n",
    "\n",
    "To model $c_1$ and $c_2$ as non-linear functions we use the ``GeneralSwing`` and define ``f`` as a functional term of our choice and ``g`` respectively.\n",
    "\n",
    "As a precise follow up and experminent to determine the influence of terms in out formulation, we introduce some choices of nonlinear terms and visualize them to provide a comprehensive view on the nonlinear influence to the swing equation."
   ]
  },
  {
   "cell_type": "code",
   "execution_count": 55,
   "metadata": {
    "execution": {
     "iopub.execute_input": "2024-02-19T20:48:43.584969Z",
     "iopub.status.busy": "2024-02-19T20:48:43.584672Z",
     "iopub.status.idle": "2024-02-19T20:48:43.899474Z",
     "shell.execute_reply": "2024-02-19T20:48:43.898940Z"
    }
   },
   "outputs": [
    {
     "data": {
      "text/plain": [
       "<module 'matplotlib.pyplot' from '/pfs/data5/home/kit/iai/ik6649/Data-Driven-Bayesian-Parameter-Estimation-with-Neural-Networks/.venv/lib64/python3.9/site-packages/matplotlib/pyplot.py'>"
      ]
     },
     "execution_count": 55,
     "metadata": {},
     "output_type": "execute_result"
    },
    {
     "data": {
      "image/png": "[encoded data removed]",
      "text/plain": [
       "<Figure size 800x200 with 1 Axes>"
      ]
     },
     "metadata": {},
     "output_type": "display_data"
    }
   ],
   "source": [
    "# Use mostly default simulator-parameters, but change the linearity of the statevariables\n",
    "swing = Swing(f=lambda x, y: -x*y**3, g=lambda x, y: -x*y**3)\n",
    "\n",
    "# Compute simulation given the parameters previously defined\n",
    "simulation = swing.simulator(parameters)\n",
    "\n",
    "# Plot the computed simulation\n",
    "analyzer.plot_frequency_analytics(simulation)"
   ]
  }
 ],
 "metadata": {
  "kernelspec": {
   "display_name": ".venv",
   "language": "python",
   "name": "python3"
  },
  "language_info": {
   "codemirror_mode": {
    "name": "ipython",
    "version": 3
   },
   "file_extension": ".py",
   "mimetype": "text/x-python",
   "name": "python",
   "nbconvert_exporter": "python",
   "pygments_lexer": "ipython3",
   "version": "3.9.7"
  }
 },
 "nbformat": 4,
 "nbformat_minor": 2
}
